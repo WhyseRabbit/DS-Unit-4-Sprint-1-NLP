{
 "cells": [
  {
   "cell_type": "markdown",
   "metadata": {},
   "source": [
    "<img align=\"left\" src=\"https://lever-client-logos.s3.amazonaws.com/864372b1-534c-480e-acd5-9711f850815c-1524247202159.png\" width=200>\n",
    "<br></br>\n",
    "<br></br>\n",
    "\n",
    "# Natural Language Processing (NLP)\n",
    "## *Data Science Unit 4 Sprint 1 Assignment 1*\n",
    "\n",
    "Your goal in this assignment: find the attributes of the best & worst coffee shops in the dataset. The text is fairly raw: dates in the review, extra words in the `star_rating` column, etc. You'll probably want to clean that stuff up for a better analysis. \n",
    "\n",
    "Analyze the corpus of text using text visualizations of token frequency. Try cleaning the data as much as possible. Try the following techniques: \n",
    "- Lemmatization\n",
    "- Custom stopword removal\n",
    "\n",
    "Keep in mind the attributes of good tokens. Once you have a solid baseline, layer in the star rating in your visualization(s). Key part of this assignment - produce a write-up of the attributes of the best and worst coffee shops. Based on your analysis, what makes the best the best and the worst the worst. Use graphs and numbesr from your analysis to support your conclusions. There should be plenty of markdown cells! :coffee:"
   ]
  },
  {
   "cell_type": "code",
   "execution_count": 1,
   "metadata": {},
   "outputs": [
    {
     "data": {
      "image/jpeg": "[encoded data removed]",
      "text/html": [
       "\n",
       "        <iframe\n",
       "            width=\"400\"\n",
       "            height=\"300\"\n",
       "            src=\"https://www.youtube.com/embed/Jml7NVYm8cs\"\n",
       "            frameborder=\"0\"\n",
       "            allowfullscreen\n",
       "        ></iframe>\n",
       "        "
      ],
      "text/plain": [
       "<IPython.lib.display.YouTubeVideo at 0x7f4b383afd60>"
      ]
     },
     "execution_count": 1,
     "metadata": {},
     "output_type": "execute_result"
    }
   ],
   "source": [
    "from IPython.display import YouTubeVideo\n",
    "\n",
    "YouTubeVideo('Jml7NVYm8cs')"
   ]
  },
  {
   "cell_type": "code",
   "execution_count": 2,
   "metadata": {},
   "outputs": [
    {
     "data": {
      "text/plain": [
       "'/home/whyseman/LambdaSchool_repos/nlp_studies/DS-Unit-4-Sprint-1-NLP/module1-text-data'"
      ]
     },
     "execution_count": 2,
     "metadata": {},
     "output_type": "execute_result"
    }
   ],
   "source": [
    "%pwd"
   ]
  },
  {
   "cell_type": "code",
   "execution_count": 3,
   "metadata": {},
   "outputs": [
    {
     "data": {
      "text/html": [
       "<div>\n",
       "<style scoped>\n",
       "    .dataframe tbody tr th:only-of-type {\n",
       "        vertical-align: middle;\n",
       "    }\n",
       "\n",
       "    .dataframe tbody tr th {\n",
       "        vertical-align: top;\n",
       "    }\n",
       "\n",
       "    .dataframe thead th {\n",
       "        text-align: right;\n",
       "    }\n",
       "</style>\n",
       "<table border=\"1\" class=\"dataframe\">\n",
       "  <thead>\n",
       "    <tr style=\"text-align: right;\">\n",
       "      <th></th>\n",
       "      <th>coffee_shop_name</th>\n",
       "      <th>full_review_text</th>\n",
       "      <th>star_rating</th>\n",
       "    </tr>\n",
       "  </thead>\n",
       "  <tbody>\n",
       "    <tr>\n",
       "      <th>0</th>\n",
       "      <td>The Factory - Cafe With a Soul</td>\n",
       "      <td>11/25/2016 1 check-in Love love loved the atm...</td>\n",
       "      <td>5.0 star rating</td>\n",
       "    </tr>\n",
       "    <tr>\n",
       "      <th>1</th>\n",
       "      <td>The Factory - Cafe With a Soul</td>\n",
       "      <td>12/2/2016 Listed in Date Night: Austin, Ambia...</td>\n",
       "      <td>4.0 star rating</td>\n",
       "    </tr>\n",
       "    <tr>\n",
       "      <th>2</th>\n",
       "      <td>The Factory - Cafe With a Soul</td>\n",
       "      <td>11/30/2016 1 check-in Listed in Brunch Spots ...</td>\n",
       "      <td>4.0 star rating</td>\n",
       "    </tr>\n",
       "    <tr>\n",
       "      <th>3</th>\n",
       "      <td>The Factory - Cafe With a Soul</td>\n",
       "      <td>11/25/2016 Very cool decor! Good drinks Nice ...</td>\n",
       "      <td>2.0 star rating</td>\n",
       "    </tr>\n",
       "    <tr>\n",
       "      <th>4</th>\n",
       "      <td>The Factory - Cafe With a Soul</td>\n",
       "      <td>12/3/2016 1 check-in They are located within ...</td>\n",
       "      <td>4.0 star rating</td>\n",
       "    </tr>\n",
       "  </tbody>\n",
       "</table>\n",
       "</div>"
      ],
      "text/plain": [
       "                  coffee_shop_name  \\\n",
       "0  The Factory - Cafe With a Soul    \n",
       "1  The Factory - Cafe With a Soul    \n",
       "2  The Factory - Cafe With a Soul    \n",
       "3  The Factory - Cafe With a Soul    \n",
       "4  The Factory - Cafe With a Soul    \n",
       "\n",
       "                                    full_review_text        star_rating  \n",
       "0   11/25/2016 1 check-in Love love loved the atm...   5.0 star rating   \n",
       "1   12/2/2016 Listed in Date Night: Austin, Ambia...   4.0 star rating   \n",
       "2   11/30/2016 1 check-in Listed in Brunch Spots ...   4.0 star rating   \n",
       "3   11/25/2016 Very cool decor! Good drinks Nice ...   2.0 star rating   \n",
       "4   12/3/2016 1 check-in They are located within ...   4.0 star rating   "
      ]
     },
     "execution_count": 3,
     "metadata": {},
     "output_type": "execute_result"
    }
   ],
   "source": [
    "import pandas as pd\n",
    "\n",
    "url = \"https://raw.githubusercontent.com/LambdaSchool/DS-Unit-4-Sprint-1-NLP/main/module1-text-data/data/yelp_coffeeshop_review_data.csv\"\n",
    "\n",
    "shops = pd.read_csv(url)\n",
    "shops.head()"
   ]
  },
  {
   "cell_type": "code",
   "execution_count": 4,
   "metadata": {},
   "outputs": [
    {
     "name": "stdout",
     "output_type": "stream",
     "text": [
      "Coffee Shop Names: Epoch Coffee                            400\n",
      "Halcyon                                 300\n",
      "The Factory - Cafe With a Soul          244\n",
      "Houndstooth Coffee                      200\n",
      "Venezia Italian Gelato                  200\n",
      "                                       ... \n",
      "Lucky Lab Coffee                         25\n",
      "Sister Coffee                            17\n",
      "Kowabunga Coffee                         16\n",
      "The Marvelous Vintage Tea Party Co.      10\n",
      "Lola Savannah Coffee Downtown             4\n",
      "Name: coffee_shop_name, Length: 79, dtype: int64\n"
     ]
    },
    {
     "data": {
      "text/plain": [
       "epoch coffee                            400\n",
       "halcyon                                 300\n",
       "the factory - cafe with a soul          244\n",
       "houndstooth coffee                      200\n",
       "venezia italian gelato                  200\n",
       "                                       ... \n",
       "lucky lab coffee                         25\n",
       "sister coffee                            17\n",
       "kowabunga coffee                         16\n",
       "the marvelous vintage tea party co.      10\n",
       "lola savannah coffee downtown             4\n",
       "Name: coffee_shop_name, Length: 79, dtype: int64"
      ]
     },
     "execution_count": 4,
     "metadata": {},
     "output_type": "execute_result"
    }
   ],
   "source": [
    "# Cleaning & Organizing Data\n",
    "\n",
    "print(\"Coffee Shop Names:\", shops[\"coffee_shop_name\"].value_counts())\n",
    "shops[\"coffee_shop_name\"] = shops[\"coffee_shop_name\"].apply(lambda x: x.lower())\n",
    "shops[\"coffee_shop_name\"].value_counts()"
   ]
  },
  {
   "cell_type": "code",
   "execution_count": 5,
   "metadata": {},
   "outputs": [
    {
     "name": "stdout",
     "output_type": "stream",
     "text": [
      "Text Reviews:  12/1/2016 So much aesthetic in this place. I love every corner of this coffee shop. The only downside is there's no wifi. Their matcha latte is to die for! See all photos from Rojean S. for The Factory - Cafe With a Soul                                                                                                                                                                                                                                                                                                                                                                                                                                                                                                                                                                                                                                                                                                                                                                                                                                                                                                                                                                                                                                                                                                                                                                                                                                                                                                                4\n",
      " 11/2/2016 I was so pleasantly surprised by this place! I only went because I had time to kill and they were the only coffee shop nearby open until 2 am. But I'm so glad I tried it out. It's not your typical Austin coffee shop. The quality of the drinks here was top notch, and they offer unique food and drinks. I had the macha latte (I think that's what it was called) and it was fantastic! The people were so friendly, the decor was beautiful, with plenty of comfortable seating (including swings from the ceiling!), and it was just the perfect place to chill with friends. I'll definitely be coming back!                                                                                                                                                                                                                                                                                                                                                                                                                                                                                                                                                                                                                                                                                                                                                                                                                                                                                                             4\n",
      " 11/6/2016 Really love the atmosphere here! I frequent coffee shops and this one is definitely unique and worth checking out.  Pros: great atmosphere Friendly staff Good hangout/ study environment Beautiful lighting Tasty drinks  Cons: no wifi Slightly pricey Pretty things Love all the details here. It just has good vibes. Definitely the perfect cafe atmosphere. See all photos from Sierra L. for The Factory - Cafe With a Soul                                                                                                                                                                                                                                                                                                                                                                                                                                                                                                                                                                                                                                                                                                                                                                                                                                                                                                                                                                                                                                                                                                4\n",
      " 11/21/2016 This spot is super cute (\"like eating in a Pottery Barn\"), with drinks that are unique and with a somewhat limited menu. We tried the chicken and waffles, which was surprisingly delicious and our drinks were also tasty. I had the Livin La Vida Mocha and my husband had the pour over. I will definitely return with company, but prices weren't good enough to make this a regular stop in our rotation.                                                                                                                                                                                                                                                                                                                                                                                                                                                                                                                                                                                                                                                                                                                                                                                                                                                                                                                                                                                                                                                                                                                   4\n",
      " 11/26/2016 1 check-in I love the deco a lot, it's a really good place to chill, it's modern, unique and appreciate the aesthetics, so I give that 5 stars, but the coffee was really disappointing. I ordered a coffee and it was a lot smaller than the picture on the menu and it was really expensive. It didn't taste good either. Other than there being no outlets and expensive coffee, this place is great.                                                                                                                                                                                                                                                                                                                                                                                                                                                                                                                                                                                                                                                                                                                                                                                                                                                                                                                                                                                                                                                                                                                         4\n",
      "                                                                                                                                                                                                                                                                                                                                                                                                                                                                                                                                                                                                                                                                                                                                                                                                                                                                                                                                                                                                                                                                                                                                                                                                                                                                                                                                                                                                                                                                                                                                            ..\n",
      " 1/31/2016 2 check-ins Something that really sticks out to me about La Tazza Fresca is how friendly and approachable the staff are - they are always taking care of their customers and are generally very pleasant to interact with, which I really appreciate.  I love coming here to study late in the afternoon or in the evening, being that it is close to Hyde Park where I live. The atmosphere is a bit dark but comfortable for reading, listening to music or studying. I probably wouldn't come here to socialize but some people do.  The menu is quite large - I've heard their chai is some of the best in town but I have yet to try it. I love the metal cups that their hot tea drinks come in, and have not been disappointed by their coffee. I usually just order a hot latte wherever I go, and theirs is decent. Nothing special though - I like my lattes with a strong bitter coffee flavor, which I don't really get from theirs, but it's nonetheless good.  They also serve a variety of desserts / pastries, and I think a limited range of food options, as well as beers and other drinks, and there is outdoor seating if that's what you like.  Also, and this might just be me, but a nice bathroom is a huge plus at a coffee house, and though their bathroom is pretty rundown, there's a lot of interesting and unique graffiti, which keeps me entertained. (haha)  Overall, La Tazza Fresca is an Austin gem, with a good location, super nice staff, and good drinks. I'll continue to support.     1\n",
      " 7/2/2016 I Love this place.  I go here when I really want to buckle down and tackle my ridiculous med books.  Their bathroom is great, the patio is always empty, so it's nice and they utilize the space inside nicely to fit as many customers without feeling too crowded.  The only thing deterring me from giving my favorite coffee place in Austin 5 stars is the fact that the coffee prices are waaay jacked up.  I'm sure I spend more than I should here, but nonetheless the owners are sweet and I support them.  Plus the music is usually unique with a wide variety and the location is away from the hustle and bustle of traffic.  I don't mind that it's on Chicon lol.                                                                                                                                                                                                                                                                                                                                                                                                                                                                                                                                                                                                                                                                                                                                                                                                                                                  1\n",
      " 4/2/2016 1 check-in Beautiful chai tea latte. Tastes great too. They made it with almond milk like I like. They also have soy milk (vegan options). I have never come to a coffee house and had my latte served in a glass.  It's wonderful! I tried my husband's coffee. Very robust. The atmosphere is laid back. You can tell people come here to study, work, and research a lot. If I lived around this area, it would be my daily coffee spot. Beautiful chai tea latte. Tastes great too. They made it with almond milk like I like. Good morning Austin!                                                                                                                                                                                                                                                                                                                                                                                                                                                                                                                                                                                                                                                                                                                                                                                                                                                                                                                                                                            1\n",
      " 6/3/2014 9 check-ins I wish they didn't close at 3 p,m. But I'm happy they're open when they are. Good coffee prepared with attention and skill - and friendly knowledgable staff happy to talk coffee. I live in the neighborhood, and this place has it all - except longer hours.                                                                                                                                                                                                                                                                                                                                                                                                                                                                                                                                                                                                                                                                                                                                                                                                                                                                                                                                                                                                                                                                                                                                                                                                                                                        1\n",
      " 5/29/2015 1 check-in Wow.. I'm from the DC metro area and we need a place like this! Bottomless iced coffee for $3.50! Also live music on the lake, you really can't beat that. There are plenty of seating and it's such a relaxing place to come hang out, study, or just simply to enjoy the view.                                                                                                                                                                                                                                                                                                                                                                                                                                                                                                                                                                                                                                                                                                                                                                                                                                                                                                                                                                                                                                                                                                                                                                                                                                       1\n",
      "Name: full_review_text, Length: 6915, dtype: int64\n"
     ]
    },
    {
     "data": {
      "text/plain": [
       " 10/19/2016 the matcha lattes are amazing! great atmosphere, great food and drink, and everything is plated beautifully. the kind of place where you can tell the employees take pride in their work. i'll definitely be back often.                                                                                                                                                                                                                                                                                                                                                                                                                                                                                                                                                                                                                                                                                                                                                                              4\n",
       " 10/9/2016 1 check-in i am very impressed with this place. the food portions were so perfect and not mention delicious! the waffle architects (staff) were all so accommodating and nice. we were able to talk to one of the owners for a bit and he was very helpful with his recommendations and accurate. i highly recommend this place. i will definitely be coming back when i am in austin again. nutella and banana waffles. chicken and waffles, olive oil pound cake, and milk tea! yummy.                                                                                                                                                                                                                                                                                                                                                                                                                                                                                                               4\n",
       " 10/16/2016 my only complaint and desire and heart wish is for this place to be open longer and to allow for wifi. this place makes my heart happy, it motivates me to study because i want to come here, and it makes me wish i had time to settle and read a wonderful book. the atmosphere is perfect, the workers are generous and kind, it's a beautiful place to be.                                                                                                                                                                                                                                                                                                                                                                                                                                                                                                                                                                                                                                        4\n",
       " 10/15/2016 this place is really nice. they have done a great job... it's the type of place that you could spend hours in. they have a small menu right now, but their drinks, waffles, and pastries are really well made. we'll definitely be coming back soon.... like tomorrow. viva matcha latte and pop-art                                                                                                                                                                                                                                                                                                                                                                                                                                                                                                                                                                                                                                                                                                  4\n",
       " 12/2/2016 okay, so after visiting my friends in la and trying a mint mojito iced coffee, i had to find one in austin that's comparable. it was getting very difficult to find one to begin with, let alone a good one. i saw the mint coffee on the factory's website and had to try it. unfortunately i was shell-shocked at the price tag ($7 if i remember correctly??)  i figured it would be a large drink and particularly fabulous and hopefully large to make up for the over the top price (this is $3 more than philz)   was it particularly fabulous? no. it was good, it wasn't as good as philz. was it bigger?? no. it was about 4 ounces of  coffee, tops. will i be back? absolutely not, especially considering i can get a 20 oz mint mojito coffee from tea haus for $3 less that tastes just as good.  this place is also self service (for ordering and pick up), why that would lead to inflated prices and not a price decrease is far beyond my understanding. i don't recommend it.     4\n",
       "                                                                                                                                                                                                                                                                                                                                                                                                                                                                                                                                                                                                                                                                                                                                                                                                                                                                                                                                                                                                                 ..\n",
       " 3/21/2016 1 check-in i think we all come for the mural. coffee was mediocre- if i hadn't already put on so much weight from all the good food i've had during my stay in austin i would have gone with their ice turbo! tacodeli tacos, hmmm pre made but maybe that's normal! probably wouldn't wait in line again.                                                                                                                                                                                                                                                                                                                                                                                                                                                                                                                                                                                                                                                                                             1\n",
       " 7/2/2016 bennu is just down the street from us and it has quickly become our neighborhood go-to in the coffee department. they make the most delicious almond milk latte around, and the friendly faces behind the counter are always a delight to see. it doesn't take long at all for nucky to know your name, and you know you're a real regular when you get a nickname! we love this place.                                                                                                                                                                                                                                                                                                                                                                                                                                                                                                                                                                                                                 1\n",
       " 2/8/2012 anderson's coffee has been the absolute best thing we have found since we moved to austin!!!  our morning coffee is so important, and they fixed us up with a custom blend of sumatra beans that we cannot live without now! if we run out and substitute, we are only disappointed and have to make sure we stop in and get two pounds to stock up with. if you have issues with coffee, stop in and let them advise you, and recommend a blend that will start your day off perfectly!!!!                                                                                                                                                                                                                                                                                                                                                                                                                                                                                                             1\n",
       " 5/7/2016 2 check-ins attended their grand opening and i came here again after a night in town.  found their coffee is very delicious, very friendly staff, their outdoor venue was relaxing, and that it was a convenient  location to drive through and grab coffee on your way into town. i highly recommend driving to the drive through side and picking up a drink!  drinks can be made hot or cold. either way is delicious and found i enjoyed many of their drinks.  they put a lot of effort into their beautifully design logo and color scheme. i see a lot of potential in their future.  come out and support them! great drink menu! easy to spot trailer!                                                                                                                                                                                                                                                                                                                                         1\n",
       " 12/20/2011 i love this place. i stop in every day or two for a pack of cigarettes, a glass bottle sarsaparilla, some times i even get a sammich.  the guys that work here are friendly and they have lots of austin kooky type stuff like local candles and treats. they carry a great selection of beers as well as glass bottle sodas.                                                                                                                                                                                                                                                                                                                                                                                                                                                                                                                                                                                                                                                                         1\n",
       "Name: full_review_text, Length: 6915, dtype: int64"
      ]
     },
     "execution_count": 5,
     "metadata": {},
     "output_type": "execute_result"
    }
   ],
   "source": [
    "print(\"Text Reviews:\", shops[\"full_review_text\"].value_counts())\n",
    "shops[\"full_review_text\"] = shops[\"full_review_text\"].apply(lambda x: x.lower())\n",
    "shops[\"full_review_text\"].value_counts()"
   ]
  },
  {
   "cell_type": "code",
   "execution_count": 6,
   "metadata": {},
   "outputs": [
    {
     "name": "stdout",
     "output_type": "stream",
     "text": [
      "Star Reviews:  5.0 star rating     3780\n",
      " 4.0 star rating     2360\n",
      " 3.0 star rating      738\n",
      " 2.0 star rating      460\n",
      " 1.0 star rating      278\n",
      "Name: star_rating, dtype: int64\n"
     ]
    },
    {
     "data": {
      "text/plain": [
       " 5.0 star rating     3780\n",
       " 4.0 star rating     2360\n",
       " 3.0 star rating      738\n",
       " 2.0 star rating      460\n",
       " 1.0 star rating      278\n",
       "Name: star_rating, dtype: int64"
      ]
     },
     "execution_count": 6,
     "metadata": {},
     "output_type": "execute_result"
    }
   ],
   "source": [
    "print(\"Star Reviews:\", shops[\"star_rating\"].value_counts())\n",
    "shops[\"star_rating\"] = shops[\"star_rating\"].apply(lambda x: x.lower())\n",
    "shops[\"star_rating\"].value_counts()"
   ]
  },
  {
   "cell_type": "code",
   "execution_count": 7,
   "metadata": {},
   "outputs": [
    {
     "name": "stdout",
     "output_type": "stream",
     "text": [
      "(7616, 3)\n"
     ]
    },
    {
     "data": {
      "text/html": [
       "<div>\n",
       "<style scoped>\n",
       "    .dataframe tbody tr th:only-of-type {\n",
       "        vertical-align: middle;\n",
       "    }\n",
       "\n",
       "    .dataframe tbody tr th {\n",
       "        vertical-align: top;\n",
       "    }\n",
       "\n",
       "    .dataframe thead th {\n",
       "        text-align: right;\n",
       "    }\n",
       "</style>\n",
       "<table border=\"1\" class=\"dataframe\">\n",
       "  <thead>\n",
       "    <tr style=\"text-align: right;\">\n",
       "      <th></th>\n",
       "      <th>coffee_shop_name</th>\n",
       "      <th>full_review_text</th>\n",
       "      <th>star_rating</th>\n",
       "    </tr>\n",
       "  </thead>\n",
       "  <tbody>\n",
       "    <tr>\n",
       "      <th>0</th>\n",
       "      <td>the factory - cafe with a soul</td>\n",
       "      <td>11/25/2016 1 check-in love love loved the atm...</td>\n",
       "      <td>5.0 star rating</td>\n",
       "    </tr>\n",
       "    <tr>\n",
       "      <th>1</th>\n",
       "      <td>the factory - cafe with a soul</td>\n",
       "      <td>12/2/2016 listed in date night: austin, ambia...</td>\n",
       "      <td>4.0 star rating</td>\n",
       "    </tr>\n",
       "    <tr>\n",
       "      <th>2</th>\n",
       "      <td>the factory - cafe with a soul</td>\n",
       "      <td>11/30/2016 1 check-in listed in brunch spots ...</td>\n",
       "      <td>4.0 star rating</td>\n",
       "    </tr>\n",
       "    <tr>\n",
       "      <th>3</th>\n",
       "      <td>the factory - cafe with a soul</td>\n",
       "      <td>11/25/2016 very cool decor! good drinks nice ...</td>\n",
       "      <td>2.0 star rating</td>\n",
       "    </tr>\n",
       "    <tr>\n",
       "      <th>4</th>\n",
       "      <td>the factory - cafe with a soul</td>\n",
       "      <td>12/3/2016 1 check-in they are located within ...</td>\n",
       "      <td>4.0 star rating</td>\n",
       "    </tr>\n",
       "  </tbody>\n",
       "</table>\n",
       "</div>"
      ],
      "text/plain": [
       "                  coffee_shop_name  \\\n",
       "0  the factory - cafe with a soul    \n",
       "1  the factory - cafe with a soul    \n",
       "2  the factory - cafe with a soul    \n",
       "3  the factory - cafe with a soul    \n",
       "4  the factory - cafe with a soul    \n",
       "\n",
       "                                    full_review_text        star_rating  \n",
       "0   11/25/2016 1 check-in love love loved the atm...   5.0 star rating   \n",
       "1   12/2/2016 listed in date night: austin, ambia...   4.0 star rating   \n",
       "2   11/30/2016 1 check-in listed in brunch spots ...   4.0 star rating   \n",
       "3   11/25/2016 very cool decor! good drinks nice ...   2.0 star rating   \n",
       "4   12/3/2016 1 check-in they are located within ...   4.0 star rating   "
      ]
     },
     "execution_count": 7,
     "metadata": {},
     "output_type": "execute_result"
    }
   ],
   "source": [
    "print(shops.shape)\n",
    "shops.head()"
   ]
  },
  {
   "cell_type": "markdown",
   "metadata": {},
   "source": [
    "## How do we want to analyze these coffee shop tokens? \n",
    "\n",
    "- Overall Word / Token Count\n",
    "- View Counts by Rating \n",
    "- *Hint:* a 'bad' coffee shops has a rating betweeen 1 & 3 based on the distribution of ratings. A 'good' coffee shop is a 4 or 5. "
   ]
  },
  {
   "cell_type": "code",
   "execution_count": 8,
   "metadata": {},
   "outputs": [],
   "source": [
    "# NLP Libraries\n",
    "\n",
    "import re\n",
    "from nltk.stem import PorterStemmer\n",
    "import spacy\n",
    "from spacy.tokenizer import Tokenizer"
   ]
  },
  {
   "cell_type": "code",
   "execution_count": 9,
   "metadata": {},
   "outputs": [],
   "source": [
    "# def tokenize(text):\n",
    "#     \"\"\"\n",
    "#     Parses a string of several units into several different strings, or tokens.\n",
    "    \n",
    "#     Args: (str) Enter phrase to be lowercased and split into tokens.\n",
    "    \n",
    "#     Return: list of strings from original text.\n",
    "#     \"\"\"\n",
    "    \n",
    "#     tokens = re.sub(\"[^a-zA-Z 0-9]\", \"\", text)\n",
    "#     tokens = tokens.lower().split()\n",
    "    \n",
    "#     return tokens"
   ]
  },
  {
   "cell_type": "code",
   "execution_count": 10,
   "metadata": {},
   "outputs": [
    {
     "data": {
      "text/plain": [
       " 10/19/2016 the matcha lattes are amazing! great atmosphere, great food and drink, and everything is plated beautifully. the kind of place where you can tell the employees take pride in their work. i'll definitely be back often.                                                                                                                                                                                                                                                                                                                                                                                                                                                                                                                                                                                                                                                                                                                                                                                                                                                                                                                                                                                                                                                                                                                                                                                                                                                                                                                                                                                                                                                                                                                                                                0.000525\n",
       " 10/9/2016 1 check-in i am very impressed with this place. the food portions were so perfect and not mention delicious! the waffle architects (staff) were all so accommodating and nice. we were able to talk to one of the owners for a bit and he was very helpful with his recommendations and accurate. i highly recommend this place. i will definitely be coming back when i am in austin again. nutella and banana waffles. chicken and waffles, olive oil pound cake, and milk tea! yummy.                                                                                                                                                                                                                                                                                                                                                                                                                                                                                                                                                                                                                                                                                                                                                                                                                                                                                                                                                                                                                                                                                                                                                                                                                                                                                                 0.000525\n",
       " 10/16/2016 my only complaint and desire and heart wish is for this place to be open longer and to allow for wifi. this place makes my heart happy, it motivates me to study because i want to come here, and it makes me wish i had time to settle and read a wonderful book. the atmosphere is perfect, the workers are generous and kind, it's a beautiful place to be.                                                                                                                                                                                                                                                                                                                                                                                                                                                                                                                                                                                                                                                                                                                                                                                                                                                                                                                                                                                                                                                                                                                                                                                                                                                                                                                                                                                                                          0.000525\n",
       " 10/15/2016 this place is really nice. they have done a great job... it's the type of place that you could spend hours in. they have a small menu right now, but their drinks, waffles, and pastries are really well made. we'll definitely be coming back soon.... like tomorrow. viva matcha latte and pop-art                                                                                                                                                                                                                                                                                                                                                                                                                                                                                                                                                                                                                                                                                                                                                                                                                                                                                                                                                                                                                                                                                                                                                                                                                                                                                                                                                                                                                                                                                    0.000525\n",
       " 12/2/2016 okay, so after visiting my friends in la and trying a mint mojito iced coffee, i had to find one in austin that's comparable. it was getting very difficult to find one to begin with, let alone a good one. i saw the mint coffee on the factory's website and had to try it. unfortunately i was shell-shocked at the price tag ($7 if i remember correctly??)  i figured it would be a large drink and particularly fabulous and hopefully large to make up for the over the top price (this is $3 more than philz)   was it particularly fabulous? no. it was good, it wasn't as good as philz. was it bigger?? no. it was about 4 ounces of  coffee, tops. will i be back? absolutely not, especially considering i can get a 20 oz mint mojito coffee from tea haus for $3 less that tastes just as good.  this place is also self service (for ordering and pick up), why that would lead to inflated prices and not a price decrease is far beyond my understanding. i don't recommend it.                                                                                                                                                                                                                                                                                                                                                                                                                                                                                                                                                                                                                                                                                                                                                                                       0.000525\n",
       " 10/7/2016 1 check-in marymint monroe  + chicken and waffles samich = my favorite cafe in austin.  ... ohhh and decor is pretty sweet too                                                                                                                                                                                                                                                                                                                                                                                                                                                                                                                                                                                                                                                                                                                                                                                                                                                                                                                                                                                                                                                                                                                                                                                                                                                                                                                                                                                                                                                                                                                                                                                                                                                           0.000525\n",
       " 12/5/2016 this is such a cute little cafe! i've driven by this place many times and hadn't noticed it until today. glad i stopped-the famous chicken waffle was delish!                                                                                                                                                                                                                                                                                                                                                                                                                                                                                                                                                                                                                                                                                                                                                                                                                                                                                                                                                                                                                                                                                                                                                                                                                                                                                                                                                                                                                                                                                                                                                                                                                            0.000525\n",
       " 12/2/2016 a cafe that doesn't have wifi but makes you order from an ipad. seriously? $2 extra for almond milk?! the latte was already $5 for 12 oz. don't expect to have a lot of vegan customers. there's a serious lack of customer service for the  overpriced food and beverages.  you order from an ipad, and they call out your drink. there is no interaction between the customer and employee, and they still expect a tip? this cafe also advertises that they have games. there are two games, chess and tick tax toe. it is a beautiful cafe, with very cool furnishings. however i wont be going back.                                                                                                                                                                                                                                                                                                                                                                                                                                                                                                                                                                                                                                                                                                                                                                                                                                                                                                                                                                                                                                                                                                                                                                                0.000525\n",
       " 11/10/2016 3 check-ins this place has been shown on my social media for days so i finally visited! one of the cutest and artistic looking coffeeshops i have ever visited. you can self order which is nice because you can take your time and look at the pictures to help you decide! i especially liked how pictures were shown so i knew which coffee/tea came out aesthetically  i ordered the famous matcha green latte and i dont usually drink coffee but it went beyond my expectations. they give you a good amount and its creamy and sweet. only downside is no wifi.. so hard to study here. matcha green tea and living la vida mocha matcha green tea latte interior design see all photos from sarah l. for the factory - cafe with a soul                                                                                                                                                                                                                                                                                                                                                                                                                                                                                                                                                                                                                                                                                                                                                                                                                                                                                                                                                                                                                                         0.000525\n",
       " 11/17/2016 1 check-in listed in 2016 - the third time is a charm! the factory has a+ decor and a very innovative interactionless (tablet) ordering system. this allows you to look up what to get without feeling pressured by a barista staring at you waiting for you to order. the eclectic selection of tables, couches, and swings (?!) inside with a small kiddy corner appeal to many different types of tastes. this is seriously a cool place to hang out.  however, when it comes to the coffee and food, it's rather not cheap. the waffles range from $4-$8, and coffee is between $3.50 and $5. the quality of the coffee is not yet up to par with other coffee mainstays in austin, so i would probably not choose to come here just for coffee. however, it is a cute date place and i know that m and i will probably come back to chat, people-watch, or read books.                                                                                                                                                                                                                                                                                                                                                                                                                                                                                                                                                                                                                                                                                                                                                                                                                                                                                                             0.000525\n",
       " 10/22/2016 1 check-in listed in americano this is not your average cute study spot cafe.  location/ atmosphere: + easy parking at the lot + cute and classy interior decor! + plenty of seats available (couches, swings, high chairs, etc) + games like chess & tic tac toe available - no sign of outlets/ charging port on the walls - no wifi available - not a study cafe unless you have all your papers printed out and don't need the internet  service: o you order by yourself using an ipad up at the counter. + there are 3 ipads available making lines go by faster. + you can request them to text you upon your order being ready + when i told one of the baristas that the fork bin was empty, he kindly brought it over to our table along with a couple of knives! - there was no option to make drinks half sweetened/ less ice on the ipad screen :\"(  food/ prices: + highly recommend the matcha latte (it was thick and made to perfection!) + the chicken and waffle was well seasoned! + aesthetically super cute - i didn't enjoy the milk tea as much (it was way too sweet for me and had a super unique taste to it.) - snack size portions, $$ price tag of a meal - the sides of corn/ coleslaw came out in a tiny cup - it was ~$7 for a cup of milk tea and ~$8 for the snack sized chicken and waffle - we were still pretty hungry after and even considered driving over to tarka for some real food.  i'd come here again to socialize (when i'm less busy with schoolwork) but really only for the matcha latte & the classy atmosphere. if you haven't had lunch/ dinner, don't come here to fill your tummy up :\"o matcha latte, chicken & waffle, nutella waffle, and hot milk tea matcha latte, chicken & waffle, nutella waffle, and hot milk tea     0.000525\n",
       " 11/12/2016 great coffee, food and atmosphere! love the set-up. order on an ipad and they call your name out when your food is ready.                                                                                                                                                                                                                                                                                                                                                                                                                                                                                                                                                                                                                                                                                                                                                                                                                                                                                                                                                                                                                                                                                                                                                                                                                                                                                                                                                                                                                                                                                                                                                                                                                                                               0.000525\n",
       " 10/28/2016 amazing atmosphere! i walked around for 5 minutes looking at everything before even ordering.  most unique take on chicken and waffles i've ever had. hands down best night time hangout in north austin. p.s.... their matcha latte is to die for!                                                                                                                                                                                                                                                                                                                                                                                                                                                                                                                                                                                                                                                                                                                                                                                                                                                                                                                                                                                                                                                                                                                                                                                                                                                                                                                                                                                                                                                                                                                                     0.000525\n",
       " 11/20/2016 this is a tough one for me.  i took my children here as a treat one afternoon and our first impression was good.  i liked the decor and the place has swings and a chess set!  score for the kids! i went to place my order and had to use an ipad.  it was diy-ordering.  i hit the wrong button of course and ended up messing up my order and having to redo the whole thing.  not too thrilled with the ipad idea but i moved on.  i sat down and when our drinks were ready, they called my name to go get them.  they had a tip jar on the counter.  i have an issue with this since i had to place my own order and then go get my own drink.  i'm not sure what they did extra that constitutes a tip?  the milk tea was delicious!  the kids loved their drinks and \"pop tarts.\"  i started glancing at some of the books laying on the table and the first one i picked up was on tattoos and had a few nude people inside.  i pushed that one aside to be sure the kids didn't pick it up.  i went to use the restroom and framed on the hall wall was a picture with the f-word all over it.  hmm, not my idea of tasteful art.  i was glad my children didn't need to use the bathroom.  while my milk tea was good, i wouldn't go back.  it was very expensive for what you get and i'd have to blindfold the children.                                                                                                                                                                                                                                                                                                                                                                                                                                                   0.000525\n",
       " 11/21/2016 1 check-in this place is fantastic! ideal place for grabbing a frothy matcha latte and a chicken & waffle. a bit different in the way that you order. definitely a nice hang-out for millenials or anyone who works in the area and is on a lunch break. wifi is within reach but they don't have it themselves.                                                                                                                                                                                                                                                                                                                                                                                                                                                                                                                                                                                                                                                                                                                                                                                                                                                                                                                                                                                                                                                                                                                                                                                                                                                                                                                                                                                                                                                                        0.000525\n",
       " 10/25/2016 tried this new cafe spot on burnet with a friend - unassuming storefront, the decor is quaint af and you have to order from ipads at the counter and then choose a place to sit.  not a brunch spot as we had thought, just a cafe with a couple of food options. the nutella waffles we got were on point - there's also a chicken option.  the cold brew coffee was fantastic and my friend's milk tea turned out great too.  good spot for conversations. only knocking down a star for the limited options. i hope they add more items to the menu! milk tea - humongous!! nutella banana waffles love the illustrations! see all photos from ramya b. for the factory - cafe with a soul                                                                                                                                                                                                                                                                                                                                                                                                                                                                                                                                                                                                                                                                                                                                                                                                                                                                                                                                                                                                                                                                                           0.000525\n",
       " 11/26/2016 1 check-in i love the deco a lot, it's a really good place to chill, it's modern, unique and appreciate the aesthetics, so i give that 5 stars, but the coffee was really disappointing. i ordered a coffee and it was a lot smaller than the picture on the menu and it was really expensive. it didn't taste good either. other than there being no outlets and expensive coffee, this place is great.                                                                                                                                                                                                                                                                                                                                                                                                                                                                                                                                                                                                                                                                                                                                                                                                                                                                                                                                                                                                                                                                                                                                                                                                                                                                                                                                                                                0.000525\n",
       " 12/2/2016 listed in date night: austin, ambiance in austin beautiful!!!! love the ambiance! instagram-worthy!!!  definitely $$$, so be prepared. this is gonna cost you a pretty penny :) waffle dessert was just decent...nothing to rave about.  but, will probably be back just to be somewhere unique and nice.                                                                                                                                                                                                                                                                                                                                                                                                                                                                                                                                                                                                                                                                                                                                                                                                                                                                                                                                                                                                                                                                                                                                                                                                                                                                                                                                                                                                                                                                                0.000525\n",
       " 11/9/2016 1 check-in guys, this place is amazing. limited food menu but both waffle offerings will blow you away! crazy good spices on the chicken. the coffee and matcha were both stellar as well. service was friendly and efficient. the space is stunning and cozy. highly recommend. will be my new go-to relaxation spot in the area.                                                                                                                                                                                                                                                                                                                                                                                                                                                                                                                                                                                                                                                                                                                                                                                                                                                                                                                                                                                                                                                                                                                                                                                                                                                                                                                                                                                                                                                       0.000525\n",
       " 10/29/2016 first time checking this place out first time. pretty swag. nice assortment of drinks. i got the 15 minutes of fame. also got the poptart. delicious!  next time i'll try the marymount monroe. will definitely come back soon.                                                                                                                                                                                                                                                                                                                                                                                                                                                                                                                                                                                                                                                                                                                                                                                                                                                                                                                                                                                                                                                                                                                                                                                                                                                                                                                                                                                                                                                                                                                                                         0.000525\n",
       " 11/25/2016 1 check-in love love loved the atmosphere! every corner of the coffee shop had its own style, and there were swings!!! i ordered the matcha latte, and it was muy fantastico! ordering and getting my drink were pretty streamlined. i ordered on an ipad, which included all beverage selections that ranged from coffee to wine, desired level of sweetness, and a checkout system. i got my latte within minutes!  i was hoping for a typical heart or feather on my latte, but found myself listing out all the possibilities of what the art may be. any ideas?                                                                                                                                                                                                                                                                                                                                                                                                                                                                                                                                                                                                                                                                                                                                                                                                                                                                                                                                                                                                                                                                                                                                                                                                                    0.000525\n",
       " 11/14/2016 honestly, this place is having an identity crisis. not a great place for a date or to meet a friend - very cute decor (props to the designer), but music is a bit all over the place, and for the price i would go somewhere else. not really a family place, at least not for all families since bathrooms have framed art of sexual positions. lights get turned down around 9pm (but they stay open till 2), so if you wanted to stop by to get a bit of reading done, you're out of luck. it is also not a beer/coffee lounge like thunderbird. menu is very limited, and if you were in the mood for a treat, i'd recommend quacks. if they wanted to expand the menu, ipad ordering would have to go.  which is sad since it's very cute, and we need more chill places to hang out in the evenings away from the university area.  matcha was good. i hope the owners will rethink their direction. would i come back? eeh, too many other treats to entice my attention.                                                                                                                                                                                                                                                                                                                                                                                                                                                                                                                                                                                                                                                                                                                                                                                                        0.000525\n",
       " 11/2/2016 i was so pleasantly surprised by this place! i only went because i had time to kill and they were the only coffee shop nearby open until 2 am. but i'm so glad i tried it out. it's not your typical austin coffee shop. the quality of the drinks here was top notch, and they offer unique food and drinks. i had the macha latte (i think that's what it was called) and it was fantastic! the people were so friendly, the decor was beautiful, with plenty of comfortable seating (including swings from the ceiling!), and it was just the perfect place to chill with friends. i'll definitely be coming back!                                                                                                                                                                                                                                                                                                                                                                                                                                                                                                                                                                                                                                                                                                                                                                                                                                                                                                                                                                                                                                                                                                                                                                    0.000525\n",
       " 11/20/2016 1 check-in very cute cafe! i think from the moment i stepped in, there really wasn't anything i didn't find cute at the factory. from their decor to their cups, everything was really cute. it's really the perfect place for a catching up with friends or a coffee date.  when you go order, there's really the least amount of interaction ever with the workers. you just pick your order on an ipad and they'll call your order out after for you to pick up at the counter. the whole thing's pretty novel honestly. i got the viva matcha latte and it was so good! perfect amount of sweetness and perfect temperature. i went on a cold night and this cafe is just so cozy, it was such a great combination. they have these swings as well which were pretty fun to sit on honestly.  prices are what i would expect for a cafe like this, not super cheap, but not too pricey. there's no wifi here, so if you want to study, maybe this isn't the right place. but overall, very nice atmosphere! viva matcha latte and cortado                                                                                                                                                                                                                                                                                                                                                                                                                                                                                                                                                                                                                                                                                                                                           0.000525\n",
       " 11/9/2016 really cute and heavily hipster atmosphere. we tried this place late night on saturday and enjoyed the first visit. you will want to try their swing for sure. seating space is somewhat limited and no wifi is available, so be aware. this is more like a place for you to enjoy its atmosphere. drinks were good, though make sure you have enough in your bank account because their drinks are probably not for broke college students. that swing!                                                                                                                                                                                                                                                                                                                                                                                                                                                                                                                                                                                                                                                                                                                                                                                                                                                                                                                                                                                                                                                                                                                                                                                                                                                                                                                                 0.000525\n",
       "Name: full_review_text, dtype: float64"
      ]
     },
     "execution_count": 10,
     "metadata": {},
     "output_type": "execute_result"
    }
   ],
   "source": [
    "shops[\"full_review_text\"].value_counts(normalize=True)[:25]"
   ]
  },
  {
   "cell_type": "code",
   "execution_count": 11,
   "metadata": {},
   "outputs": [],
   "source": [
    "# shops[\"review_tokens\"] = shops[\"full_review_text\"].apply(tokenize)\n",
    "# shops[\"review_tokens\"].head()"
   ]
  },
  {
   "cell_type": "code",
   "execution_count": 12,
   "metadata": {},
   "outputs": [
    {
     "data": {
      "text/html": [
       "<div>\n",
       "<style scoped>\n",
       "    .dataframe tbody tr th:only-of-type {\n",
       "        vertical-align: middle;\n",
       "    }\n",
       "\n",
       "    .dataframe tbody tr th {\n",
       "        vertical-align: top;\n",
       "    }\n",
       "\n",
       "    .dataframe thead th {\n",
       "        text-align: right;\n",
       "    }\n",
       "</style>\n",
       "<table border=\"1\" class=\"dataframe\">\n",
       "  <thead>\n",
       "    <tr style=\"text-align: right;\">\n",
       "      <th></th>\n",
       "      <th>coffee_shop_name</th>\n",
       "      <th>full_review_text</th>\n",
       "      <th>star_rating</th>\n",
       "    </tr>\n",
       "  </thead>\n",
       "  <tbody>\n",
       "    <tr>\n",
       "      <th>0</th>\n",
       "      <td>the factory - cafe with a soul</td>\n",
       "      <td>11/25/2016 1 check-in love love loved the atm...</td>\n",
       "      <td>5.0 star rating</td>\n",
       "    </tr>\n",
       "    <tr>\n",
       "      <th>1</th>\n",
       "      <td>the factory - cafe with a soul</td>\n",
       "      <td>12/2/2016 listed in date night: austin, ambia...</td>\n",
       "      <td>4.0 star rating</td>\n",
       "    </tr>\n",
       "    <tr>\n",
       "      <th>2</th>\n",
       "      <td>the factory - cafe with a soul</td>\n",
       "      <td>11/30/2016 1 check-in listed in brunch spots ...</td>\n",
       "      <td>4.0 star rating</td>\n",
       "    </tr>\n",
       "    <tr>\n",
       "      <th>3</th>\n",
       "      <td>the factory - cafe with a soul</td>\n",
       "      <td>11/25/2016 very cool decor! good drinks nice ...</td>\n",
       "      <td>2.0 star rating</td>\n",
       "    </tr>\n",
       "    <tr>\n",
       "      <th>4</th>\n",
       "      <td>the factory - cafe with a soul</td>\n",
       "      <td>12/3/2016 1 check-in they are located within ...</td>\n",
       "      <td>4.0 star rating</td>\n",
       "    </tr>\n",
       "  </tbody>\n",
       "</table>\n",
       "</div>"
      ],
      "text/plain": [
       "                  coffee_shop_name  \\\n",
       "0  the factory - cafe with a soul    \n",
       "1  the factory - cafe with a soul    \n",
       "2  the factory - cafe with a soul    \n",
       "3  the factory - cafe with a soul    \n",
       "4  the factory - cafe with a soul    \n",
       "\n",
       "                                    full_review_text        star_rating  \n",
       "0   11/25/2016 1 check-in love love loved the atm...   5.0 star rating   \n",
       "1   12/2/2016 listed in date night: austin, ambia...   4.0 star rating   \n",
       "2   11/30/2016 1 check-in listed in brunch spots ...   4.0 star rating   \n",
       "3   11/25/2016 very cool decor! good drinks nice ...   2.0 star rating   \n",
       "4   12/3/2016 1 check-in they are located within ...   4.0 star rating   "
      ]
     },
     "execution_count": 12,
     "metadata": {},
     "output_type": "execute_result"
    }
   ],
   "source": [
    "shops.head()"
   ]
  },
  {
   "cell_type": "code",
   "execution_count": 13,
   "metadata": {},
   "outputs": [],
   "source": [
    "# word_count = Counter()\n",
    "# shops[\"review_tokens\"].apply(lambda x: word_count.update(x))\n",
    "# word_count.most_common(20)"
   ]
  },
  {
   "cell_type": "code",
   "execution_count": 14,
   "metadata": {},
   "outputs": [],
   "source": [
    "nlp = spacy.load(\"en_core_web_lg\")\n",
    "tokenizer = Tokenizer(nlp.vocab)"
   ]
  },
  {
   "cell_type": "code",
   "execution_count": 15,
   "metadata": {},
   "outputs": [
    {
     "name": "stdout",
     "output_type": "stream",
     "text": [
      "(7616, 4)\n"
     ]
    },
    {
     "data": {
      "text/html": [
       "<div>\n",
       "<style scoped>\n",
       "    .dataframe tbody tr th:only-of-type {\n",
       "        vertical-align: middle;\n",
       "    }\n",
       "\n",
       "    .dataframe tbody tr th {\n",
       "        vertical-align: top;\n",
       "    }\n",
       "\n",
       "    .dataframe thead th {\n",
       "        text-align: right;\n",
       "    }\n",
       "</style>\n",
       "<table border=\"1\" class=\"dataframe\">\n",
       "  <thead>\n",
       "    <tr style=\"text-align: right;\">\n",
       "      <th></th>\n",
       "      <th>coffee_shop_name</th>\n",
       "      <th>full_review_text</th>\n",
       "      <th>star_rating</th>\n",
       "      <th>review_tokens</th>\n",
       "    </tr>\n",
       "  </thead>\n",
       "  <tbody>\n",
       "    <tr>\n",
       "      <th>0</th>\n",
       "      <td>the factory - cafe with a soul</td>\n",
       "      <td>11/25/2016 1 check-in love love loved the atm...</td>\n",
       "      <td>5.0 star rating</td>\n",
       "      <td>[ , 11/25/2016, 1, check-in, love, love, loved...</td>\n",
       "    </tr>\n",
       "    <tr>\n",
       "      <th>1</th>\n",
       "      <td>the factory - cafe with a soul</td>\n",
       "      <td>12/2/2016 listed in date night: austin, ambia...</td>\n",
       "      <td>4.0 star rating</td>\n",
       "      <td>[ , 12/2/2016, listed, in, date, night:, austi...</td>\n",
       "    </tr>\n",
       "    <tr>\n",
       "      <th>2</th>\n",
       "      <td>the factory - cafe with a soul</td>\n",
       "      <td>11/30/2016 1 check-in listed in brunch spots ...</td>\n",
       "      <td>4.0 star rating</td>\n",
       "      <td>[ , 11/30/2016, 1, check-in, listed, in, brunc...</td>\n",
       "    </tr>\n",
       "    <tr>\n",
       "      <th>3</th>\n",
       "      <td>the factory - cafe with a soul</td>\n",
       "      <td>11/25/2016 very cool decor! good drinks nice ...</td>\n",
       "      <td>2.0 star rating</td>\n",
       "      <td>[ , 11/25/2016, very, cool, decor!, good, drin...</td>\n",
       "    </tr>\n",
       "    <tr>\n",
       "      <th>4</th>\n",
       "      <td>the factory - cafe with a soul</td>\n",
       "      <td>12/3/2016 1 check-in they are located within ...</td>\n",
       "      <td>4.0 star rating</td>\n",
       "      <td>[ , 12/3/2016, 1, check-in, they, are, located...</td>\n",
       "    </tr>\n",
       "  </tbody>\n",
       "</table>\n",
       "</div>"
      ],
      "text/plain": [
       "                  coffee_shop_name  \\\n",
       "0  the factory - cafe with a soul    \n",
       "1  the factory - cafe with a soul    \n",
       "2  the factory - cafe with a soul    \n",
       "3  the factory - cafe with a soul    \n",
       "4  the factory - cafe with a soul    \n",
       "\n",
       "                                    full_review_text        star_rating  \\\n",
       "0   11/25/2016 1 check-in love love loved the atm...   5.0 star rating    \n",
       "1   12/2/2016 listed in date night: austin, ambia...   4.0 star rating    \n",
       "2   11/30/2016 1 check-in listed in brunch spots ...   4.0 star rating    \n",
       "3   11/25/2016 very cool decor! good drinks nice ...   2.0 star rating    \n",
       "4   12/3/2016 1 check-in they are located within ...   4.0 star rating    \n",
       "\n",
       "                                       review_tokens  \n",
       "0  [ , 11/25/2016, 1, check-in, love, love, loved...  \n",
       "1  [ , 12/2/2016, listed, in, date, night:, austi...  \n",
       "2  [ , 11/30/2016, 1, check-in, listed, in, brunc...  \n",
       "3  [ , 11/25/2016, very, cool, decor!, good, drin...  \n",
       "4  [ , 12/3/2016, 1, check-in, they, are, located...  "
      ]
     },
     "execution_count": 15,
     "metadata": {},
     "output_type": "execute_result"
    }
   ],
   "source": [
    "tokens = []\n",
    "\n",
    "for doc in tokenizer.pipe(shops[\"full_review_text\"], batch_size=500):\n",
    "    doc_tokens = [token.text for token in doc]\n",
    "    tokens.append(doc_tokens)\n",
    "\n",
    "shops[\"review_tokens\"] = tokens\n",
    "print(shops.shape)\n",
    "shops.head()"
   ]
  },
  {
   "cell_type": "code",
   "execution_count": 16,
   "metadata": {},
   "outputs": [],
   "source": [
    "STOP_WORDS = nlp.Defaults.stop_words\n",
    "STOP_WORDS = nlp.Defaults.stop_words.union([\" \", \"coffee\", \"i'm\", \"i've\", \"1\", \"it's\", \"got\", \"place\",\n",
    "                                           \"austin\", \"check-in\"])"
   ]
  },
  {
   "cell_type": "code",
   "execution_count": 17,
   "metadata": {},
   "outputs": [
    {
     "name": "stdout",
     "output_type": "stream",
     "text": [
      "(7616, 4)\n"
     ]
    },
    {
     "data": {
      "text/html": [
       "<div>\n",
       "<style scoped>\n",
       "    .dataframe tbody tr th:only-of-type {\n",
       "        vertical-align: middle;\n",
       "    }\n",
       "\n",
       "    .dataframe tbody tr th {\n",
       "        vertical-align: top;\n",
       "    }\n",
       "\n",
       "    .dataframe thead th {\n",
       "        text-align: right;\n",
       "    }\n",
       "</style>\n",
       "<table border=\"1\" class=\"dataframe\">\n",
       "  <thead>\n",
       "    <tr style=\"text-align: right;\">\n",
       "      <th></th>\n",
       "      <th>coffee_shop_name</th>\n",
       "      <th>full_review_text</th>\n",
       "      <th>star_rating</th>\n",
       "      <th>review_tokens</th>\n",
       "    </tr>\n",
       "  </thead>\n",
       "  <tbody>\n",
       "    <tr>\n",
       "      <th>0</th>\n",
       "      <td>the factory - cafe with a soul</td>\n",
       "      <td>11/25/2016 1 check-in love love loved the atm...</td>\n",
       "      <td>5.0 star rating</td>\n",
       "      <td>[11/25/2016, love, love, loved, atmosphere!, c...</td>\n",
       "    </tr>\n",
       "    <tr>\n",
       "      <th>1</th>\n",
       "      <td>the factory - cafe with a soul</td>\n",
       "      <td>12/2/2016 listed in date night: austin, ambia...</td>\n",
       "      <td>4.0 star rating</td>\n",
       "      <td>[12/2/2016, listed, date, night:, austin,, amb...</td>\n",
       "    </tr>\n",
       "    <tr>\n",
       "      <th>2</th>\n",
       "      <td>the factory - cafe with a soul</td>\n",
       "      <td>11/30/2016 1 check-in listed in brunch spots ...</td>\n",
       "      <td>4.0 star rating</td>\n",
       "      <td>[11/30/2016, listed, brunch, spots, loved, ecl...</td>\n",
       "    </tr>\n",
       "    <tr>\n",
       "      <th>3</th>\n",
       "      <td>the factory - cafe with a soul</td>\n",
       "      <td>11/25/2016 very cool decor! good drinks nice ...</td>\n",
       "      <td>2.0 star rating</td>\n",
       "      <td>[11/25/2016, cool, decor!, good, drinks, nice,...</td>\n",
       "    </tr>\n",
       "    <tr>\n",
       "      <th>4</th>\n",
       "      <td>the factory - cafe with a soul</td>\n",
       "      <td>12/3/2016 1 check-in they are located within ...</td>\n",
       "      <td>4.0 star rating</td>\n",
       "      <td>[12/3/2016, located, northcross, mall, shoppin...</td>\n",
       "    </tr>\n",
       "  </tbody>\n",
       "</table>\n",
       "</div>"
      ],
      "text/plain": [
       "                  coffee_shop_name  \\\n",
       "0  the factory - cafe with a soul    \n",
       "1  the factory - cafe with a soul    \n",
       "2  the factory - cafe with a soul    \n",
       "3  the factory - cafe with a soul    \n",
       "4  the factory - cafe with a soul    \n",
       "\n",
       "                                    full_review_text        star_rating  \\\n",
       "0   11/25/2016 1 check-in love love loved the atm...   5.0 star rating    \n",
       "1   12/2/2016 listed in date night: austin, ambia...   4.0 star rating    \n",
       "2   11/30/2016 1 check-in listed in brunch spots ...   4.0 star rating    \n",
       "3   11/25/2016 very cool decor! good drinks nice ...   2.0 star rating    \n",
       "4   12/3/2016 1 check-in they are located within ...   4.0 star rating    \n",
       "\n",
       "                                       review_tokens  \n",
       "0  [11/25/2016, love, love, loved, atmosphere!, c...  \n",
       "1  [12/2/2016, listed, date, night:, austin,, amb...  \n",
       "2  [11/30/2016, listed, brunch, spots, loved, ecl...  \n",
       "3  [11/25/2016, cool, decor!, good, drinks, nice,...  \n",
       "4  [12/3/2016, located, northcross, mall, shoppin...  "
      ]
     },
     "execution_count": 17,
     "metadata": {},
     "output_type": "execute_result"
    }
   ],
   "source": [
    "tokens = []\n",
    "\n",
    "for doc in tokenizer.pipe(shops[\"full_review_text\"], batch_size=500):\n",
    "    \n",
    "    doc_tokens = []\n",
    "    \n",
    "    for token in doc:\n",
    "        if (token.text.lower() not in STOP_WORDS) & (token.is_punct == False):\n",
    "            doc_tokens.append(token.text.lower())\n",
    "        \n",
    "    tokens.append(doc_tokens)\n",
    "\n",
    "shops[\"review_tokens\"] = tokens\n",
    "print(shops.shape)\n",
    "shops.head()"
   ]
  },
  {
   "cell_type": "code",
   "execution_count": 18,
   "metadata": {},
   "outputs": [
    {
     "name": "stdout",
     "output_type": "stream",
     "text": [
      "(40386, 7)\n"
     ]
    },
    {
     "data": {
      "text/html": [
       "<div>\n",
       "<style scoped>\n",
       "    .dataframe tbody tr th:only-of-type {\n",
       "        vertical-align: middle;\n",
       "    }\n",
       "\n",
       "    .dataframe tbody tr th {\n",
       "        vertical-align: top;\n",
       "    }\n",
       "\n",
       "    .dataframe thead th {\n",
       "        text-align: right;\n",
       "    }\n",
       "</style>\n",
       "<table border=\"1\" class=\"dataframe\">\n",
       "  <thead>\n",
       "    <tr style=\"text-align: right;\">\n",
       "      <th></th>\n",
       "      <th>word</th>\n",
       "      <th>appears_in</th>\n",
       "      <th>count</th>\n",
       "      <th>rank</th>\n",
       "      <th>pct_total</th>\n",
       "      <th>cul_pct_total</th>\n",
       "      <th>appears_in_pct</th>\n",
       "    </tr>\n",
       "  </thead>\n",
       "  <tbody>\n",
       "    <tr>\n",
       "      <th>136</th>\n",
       "      <td>great</td>\n",
       "      <td>2438</td>\n",
       "      <td>3250</td>\n",
       "      <td>1.0</td>\n",
       "      <td>0.008688</td>\n",
       "      <td>0.091409</td>\n",
       "      <td>0.320116</td>\n",
       "    </tr>\n",
       "    <tr>\n",
       "      <th>157</th>\n",
       "      <td>like</td>\n",
       "      <td>2034</td>\n",
       "      <td>2902</td>\n",
       "      <td>2.0</td>\n",
       "      <td>0.007758</td>\n",
       "      <td>0.130212</td>\n",
       "      <td>0.267069</td>\n",
       "    </tr>\n",
       "    <tr>\n",
       "      <th>177</th>\n",
       "      <td>good</td>\n",
       "      <td>2084</td>\n",
       "      <td>2779</td>\n",
       "      <td>3.0</td>\n",
       "      <td>0.007429</td>\n",
       "      <td>0.103209</td>\n",
       "      <td>0.273634</td>\n",
       "    </tr>\n",
       "    <tr>\n",
       "      <th>1</th>\n",
       "      <td>love</td>\n",
       "      <td>1434</td>\n",
       "      <td>1806</td>\n",
       "      <td>4.0</td>\n",
       "      <td>0.004828</td>\n",
       "      <td>0.004881</td>\n",
       "      <td>0.188288</td>\n",
       "    </tr>\n",
       "    <tr>\n",
       "      <th>791</th>\n",
       "      <td>little</td>\n",
       "      <td>1230</td>\n",
       "      <td>1479</td>\n",
       "      <td>5.0</td>\n",
       "      <td>0.003954</td>\n",
       "      <td>0.334988</td>\n",
       "      <td>0.161502</td>\n",
       "    </tr>\n",
       "  </tbody>\n",
       "</table>\n",
       "</div>"
      ],
      "text/plain": [
       "       word  appears_in  count  rank  pct_total  cul_pct_total  appears_in_pct\n",
       "136   great        2438   3250   1.0   0.008688       0.091409        0.320116\n",
       "157    like        2034   2902   2.0   0.007758       0.130212        0.267069\n",
       "177    good        2084   2779   3.0   0.007429       0.103209        0.273634\n",
       "1      love        1434   1806   4.0   0.004828       0.004881        0.188288\n",
       "791  little        1230   1479   5.0   0.003954       0.334988        0.161502"
      ]
     },
     "execution_count": 18,
     "metadata": {},
     "output_type": "execute_result"
    }
   ],
   "source": [
    "from collections import Counter\n",
    "\n",
    "def count(docs):\n",
    "    \"\"\"\n",
    "    \"\"\"\n",
    "    \n",
    "    word_count = Counter()\n",
    "    appears_in = Counter()\n",
    "    docs_sum = len(docs)\n",
    "    \n",
    "    for doc in docs:\n",
    "        word_count.update(doc)\n",
    "        appears_in.update(set(doc))\n",
    "        \n",
    "    tmp = zip(word_count.keys(), word_count.values())\n",
    "    \n",
    "    wc = pd.DataFrame(tmp, columns=[\"word\", \"count\"])\n",
    "    total = wc[\"count\"].sum()\n",
    "    wc[\"rank\"] = wc[\"count\"].rank(method=\"first\", ascending=False)\n",
    "    wc[\"pct_total\"] = wc[\"count\"].apply(lambda x: x / total)\n",
    "    wc[\"cul_pct_total\"] = wc[\"pct_total\"].cumsum()\n",
    "    wc = wc.sort_values(by=\"rank\")\n",
    "    \n",
    "    tmp2 = zip(appears_in.keys(), appears_in.values())\n",
    "    \n",
    "    ac = pd.DataFrame(tmp2, columns=[\"word\", \"appears_in\"])\n",
    "    wc = ac.merge(wc, on=\"word\")\n",
    "    \n",
    "    wc[\"appears_in_pct\"] = wc[\"appears_in\"].apply(lambda x: x / docs_sum)\n",
    "    \n",
    "    return wc.sort_values(by=\"rank\")\n",
    "\n",
    "wc = count(shops[\"review_tokens\"])\n",
    "print(wc.shape)\n",
    "wc.head()"
   ]
  },
  {
   "cell_type": "code",
   "execution_count": 19,
   "metadata": {},
   "outputs": [],
   "source": [
    "# Import Plotting Libraries\n",
    "\n",
    "import squarify\n",
    "import matplotlib.pyplot as plt\n",
    "import seaborn as sns"
   ]
  },
  {
   "cell_type": "code",
   "execution_count": 20,
   "metadata": {},
   "outputs": [
    {
     "data": {
      "image/png": "[encoded data removed]",
      "text/plain": [
       "<Figure size 720x720 with 1 Axes>"
      ]
     },
     "metadata": {
      "needs_background": "light"
     },
     "output_type": "display_data"
    }
   ],
   "source": [
    "wc_top20 = wc[wc[\"rank\"] <= 20]\n",
    "\n",
    "plt.figure(figsize=(10, 10))\n",
    "squarify.plot(sizes=wc_top20[\"pct_total\"],label=wc_top20[\"word\"], alpha=.8)\n",
    "plt.axis(\"off\")\n",
    "plt.show()"
   ]
  },
  {
   "cell_type": "markdown",
   "metadata": {},
   "source": [
    "## Can visualize the words with the greatest difference in counts between 'good' & 'bad'?\n",
    "\n",
    "Couple Notes: \n",
    "- Rel. freq. instead of absolute counts b/c of different numbers of reviews\n",
    "- Only look at the top 5-10 words with the greatest differences\n"
   ]
  },
  {
   "cell_type": "code",
   "execution_count": 21,
   "metadata": {},
   "outputs": [
    {
     "data": {
      "text/html": [
       "<div>\n",
       "<style scoped>\n",
       "    .dataframe tbody tr th:only-of-type {\n",
       "        vertical-align: middle;\n",
       "    }\n",
       "\n",
       "    .dataframe tbody tr th {\n",
       "        vertical-align: top;\n",
       "    }\n",
       "\n",
       "    .dataframe thead th {\n",
       "        text-align: right;\n",
       "    }\n",
       "</style>\n",
       "<table border=\"1\" class=\"dataframe\">\n",
       "  <thead>\n",
       "    <tr style=\"text-align: right;\">\n",
       "      <th></th>\n",
       "      <th>coffee_shop_name</th>\n",
       "      <th>full_review_text</th>\n",
       "      <th>star_rating</th>\n",
       "      <th>review_tokens</th>\n",
       "      <th>bad_reviews</th>\n",
       "      <th>good_reviews</th>\n",
       "    </tr>\n",
       "  </thead>\n",
       "  <tbody>\n",
       "    <tr>\n",
       "      <th>0</th>\n",
       "      <td>the factory - cafe with a soul</td>\n",
       "      <td>11/25/2016 1 check-in love love loved the atm...</td>\n",
       "      <td>5.0 star rating</td>\n",
       "      <td>[11/25/2016, love, love, loved, atmosphere!, c...</td>\n",
       "      <td>False</td>\n",
       "      <td>True</td>\n",
       "    </tr>\n",
       "    <tr>\n",
       "      <th>1</th>\n",
       "      <td>the factory - cafe with a soul</td>\n",
       "      <td>12/2/2016 listed in date night: austin, ambia...</td>\n",
       "      <td>4.0 star rating</td>\n",
       "      <td>[12/2/2016, listed, date, night:, austin,, amb...</td>\n",
       "      <td>False</td>\n",
       "      <td>True</td>\n",
       "    </tr>\n",
       "    <tr>\n",
       "      <th>2</th>\n",
       "      <td>the factory - cafe with a soul</td>\n",
       "      <td>11/30/2016 1 check-in listed in brunch spots ...</td>\n",
       "      <td>4.0 star rating</td>\n",
       "      <td>[11/30/2016, listed, brunch, spots, loved, ecl...</td>\n",
       "      <td>False</td>\n",
       "      <td>True</td>\n",
       "    </tr>\n",
       "    <tr>\n",
       "      <th>3</th>\n",
       "      <td>the factory - cafe with a soul</td>\n",
       "      <td>11/25/2016 very cool decor! good drinks nice ...</td>\n",
       "      <td>2.0 star rating</td>\n",
       "      <td>[11/25/2016, cool, decor!, good, drinks, nice,...</td>\n",
       "      <td>True</td>\n",
       "      <td>False</td>\n",
       "    </tr>\n",
       "    <tr>\n",
       "      <th>4</th>\n",
       "      <td>the factory - cafe with a soul</td>\n",
       "      <td>12/3/2016 1 check-in they are located within ...</td>\n",
       "      <td>4.0 star rating</td>\n",
       "      <td>[12/3/2016, located, northcross, mall, shoppin...</td>\n",
       "      <td>False</td>\n",
       "      <td>True</td>\n",
       "    </tr>\n",
       "  </tbody>\n",
       "</table>\n",
       "</div>"
      ],
      "text/plain": [
       "                  coffee_shop_name  \\\n",
       "0  the factory - cafe with a soul    \n",
       "1  the factory - cafe with a soul    \n",
       "2  the factory - cafe with a soul    \n",
       "3  the factory - cafe with a soul    \n",
       "4  the factory - cafe with a soul    \n",
       "\n",
       "                                    full_review_text        star_rating  \\\n",
       "0   11/25/2016 1 check-in love love loved the atm...   5.0 star rating    \n",
       "1   12/2/2016 listed in date night: austin, ambia...   4.0 star rating    \n",
       "2   11/30/2016 1 check-in listed in brunch spots ...   4.0 star rating    \n",
       "3   11/25/2016 very cool decor! good drinks nice ...   2.0 star rating    \n",
       "4   12/3/2016 1 check-in they are located within ...   4.0 star rating    \n",
       "\n",
       "                                       review_tokens  bad_reviews  \\\n",
       "0  [11/25/2016, love, love, loved, atmosphere!, c...        False   \n",
       "1  [12/2/2016, listed, date, night:, austin,, amb...        False   \n",
       "2  [11/30/2016, listed, brunch, spots, loved, ecl...        False   \n",
       "3  [11/25/2016, cool, decor!, good, drinks, nice,...         True   \n",
       "4  [12/3/2016, located, northcross, mall, shoppin...        False   \n",
       "\n",
       "   good_reviews  \n",
       "0          True  \n",
       "1          True  \n",
       "2          True  \n",
       "3         False  \n",
       "4          True  "
      ]
     },
     "execution_count": 21,
     "metadata": {},
     "output_type": "execute_result"
    }
   ],
   "source": [
    "shops[\"bad_reviews\"] = shops[\"star_rating\"].str.contains(\"1.0 star rating|2.0 star rating|3.0 star rating\",\n",
    "                                                        case=False)\n",
    "shops[\"good_reviews\"] = shops[\"star_rating\"].str.contains(\"4.0 star rating|5.0 star rating\", case=False)\n",
    "shops.head()"
   ]
  },
  {
   "cell_type": "code",
   "execution_count": 24,
   "metadata": {},
   "outputs": [
    {
     "name": "stdout",
     "output_type": "stream",
     "text": [
      "(34292, 7) (16324, 7)\n"
     ]
    },
    {
     "data": {
      "image/png": "[encoded data removed]",
      "text/plain": [
       "<Figure size 1440x864 with 2 Axes>"
      ]
     },
     "metadata": {
      "needs_background": "light"
     },
     "output_type": "display_data"
    }
   ],
   "source": [
    "# Separating review tokens through classification above\n",
    "\n",
    "good_wc = count(shops[shops[\"good_reviews\"] == True][\"review_tokens\"])\n",
    "nega_wc = count(shops[shops[\"bad_reviews\"] == True][\"review_tokens\"])\n",
    "print(good_wc.shape, nega_wc.shape)\n",
    "\n",
    "# Extracting Top and Bottom 20 review words\n",
    "top15 = good_wc[good_wc[\"rank\"] <= 15]\n",
    "bottom15 = nega_wc[nega_wc[\"rank\"] <= 15]\n",
    "\n",
    "# Plotting Matrices Below\n",
    "fig, axes = plt.subplots(1, 2, figsize=(20, 12))\n",
    "\n",
    "# Good Reviews\n",
    "axes[0].set_title(\"Good Coffee Reviews\")\n",
    "squarify.plot(sizes=top15[\"pct_total\"], label=top15[\"word\"], alpha=.8, ax=axes[0])\n",
    "axes[0].axis(\"off\")\n",
    "\n",
    "# Negative Reviews\n",
    "axes[1].set_title(\"Negative Coffee Reviews\")\n",
    "squarify.plot(sizes=bottom15[\"pct_total\"], label=bottom15[\"word\"], alpha=.8, ax=axes[1])\n",
    "axes[1].axis(\"off\")\n",
    "\n",
    "plt.show()"
   ]
  },
  {
   "cell_type": "code",
   "execution_count": null,
   "metadata": {},
   "outputs": [],
   "source": []
  },
  {
   "cell_type": "code",
   "execution_count": null,
   "metadata": {},
   "outputs": [],
   "source": []
  },
  {
   "cell_type": "code",
   "execution_count": null,
   "metadata": {},
   "outputs": [],
   "source": []
  },
  {
   "cell_type": "code",
   "execution_count": null,
   "metadata": {},
   "outputs": [],
   "source": []
  },
  {
   "cell_type": "markdown",
   "metadata": {
    "colab_type": "text",
    "id": "1dCb1q8XphcP",
    "toc-hr-collapsed": true
   },
   "source": [
    "## Stretch Goals\n",
    "\n",
    "* Analyze another corpus of documents - such as Indeed.com job listings ;).\n",
    "* Play with the Spacy API to\n",
    " - Extract Named Entities\n",
    " - Extracting 'noun chunks'\n",
    " - Attempt Document Classification with just Spacy\n",
    " - *Note:* This [course](https://course.spacy.io/) will be of interesting in helping you with these stretch goals. \n",
    "* Try to build a plotly dash app with your text data \n",
    "\n"
   ]
  }
 ],
 "metadata": {
  "colab": {
   "collapsed_sections": [],
   "name": "LS_DS_421_Text_Data_Assignment.ipynb",
   "provenance": [],
   "version": "0.3.2"
  },
  "kernelspec": {
   "display_name": "U4-S1-NLP (Python3)",
   "language": "python",
   "name": "u4-s1-nlp"
  },
  "language_info": {
   "codemirror_mode": {
    "name": "ipython",
    "version": 3
   },
   "file_extension": ".py",
   "mimetype": "text/x-python",
   "name": "python",
   "nbconvert_exporter": "python",
   "pygments_lexer": "ipython3",
   "version": "3.9.2"
  },
  "toc-autonumbering": false
 },
 "nbformat": 4,
 "nbformat_minor": 4
}
